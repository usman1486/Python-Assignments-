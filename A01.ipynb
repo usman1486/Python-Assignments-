{
 "cells": [
  {
   "cell_type": "markdown",
   "id": "5d5cef45",
   "metadata": {},
   "source": [
    "# Assinment 01 (Python)\n"
   ]
  },
  {
   "cell_type": "code",
   "execution_count": 2,
   "id": "de32e6b0",
   "metadata": {},
   "outputs": [],
   "source": [
    "#In the below elements which of them are values or an expression? eg:- values can be integer or string and expressions will be mathematical operators.\n",
    "\n",
    "# *,-,/,+ are expression\n",
    "# 'hello' string\n",
    "# -87.8 float\n",
    "# 6 integer\n",
    "\n"
   ]
  },
  {
   "cell_type": "code",
   "execution_count": 3,
   "id": "c5372179",
   "metadata": {},
   "outputs": [],
   "source": [
    "#What is the difference between string and variable?\n",
    "\n",
    "#variable is memory location which can hold data of any data type like it can be int float double etc.\n",
    "#string is spacific data type of a variable.  A str can be represented by enclosing in single ,double or triple qutes. like x='abx'"
   ]
  },
  {
   "cell_type": "code",
   "execution_count": 4,
   "id": "2d59007b",
   "metadata": {},
   "outputs": [],
   "source": [
    "#Describe three different data types\n",
    "\n",
    "#integer--> 7\n",
    "#float-->3.3 etc\n",
    "#string -->\"USMAN\" etc"
   ]
  },
  {
   "cell_type": "code",
   "execution_count": 6,
   "id": "fab03d6b",
   "metadata": {},
   "outputs": [],
   "source": [
    "# What is an expression made up of? What do all expressions do?\n",
    "\n",
    "#combination of one or more varibale,values or operators all expression come with a output which can be of any data type.\n",
    "#like x=a+b ,result=7+9 etc.\n"
   ]
  },
  {
   "cell_type": "code",
   "execution_count": 12,
   "id": "cd180edf",
   "metadata": {},
   "outputs": [
    {
     "data": {
      "text/plain": [
       "23"
      ]
     },
     "execution_count": 12,
     "metadata": {},
     "output_type": "execute_result"
    }
   ],
   "source": [
    "#After running the following code, what does the variable bacon contain?\n",
    "\n",
    "# bacon=22\n",
    "# bacon+1\n",
    "# bacon--> 22 ans"
   ]
  },
  {
   "cell_type": "code",
   "execution_count": 15,
   "id": "9a046449",
   "metadata": {},
   "outputs": [],
   "source": [
    "#What should the values of the following two terms be?\n",
    "\n",
    "#'spam' + 'spamspam'\n",
    "# 'spamspamspam' ans\n",
    "# 'spam' * 3\n",
    "#'spamspamspam'"
   ]
  },
  {
   "cell_type": "code",
   "execution_count": 18,
   "id": "12e73ba6",
   "metadata": {},
   "outputs": [],
   "source": [
    "#Why is eggs a valid variable name while 100 is invalid?\n",
    "\n",
    "# eggs is a variable (Beacuse var name should start with a-z,A-Z or _)\n",
    "#100 is value"
   ]
  },
  {
   "cell_type": "code",
   "execution_count": 23,
   "id": "fbe72159",
   "metadata": {},
   "outputs": [],
   "source": [
    "#Why does this expression cause an error? How can you fix it?\n",
    "\n",
    "#number bw two string only string we can concatenate this way not int.\n",
    "# 'I have eaten ' , 99 , ' burritos.' \n"
   ]
  },
  {
   "cell_type": "code",
   "execution_count": null,
   "id": "0d81783b",
   "metadata": {},
   "outputs": [],
   "source": []
  }
 ],
 "metadata": {
  "kernelspec": {
   "display_name": "Python 3 (ipykernel)",
   "language": "python",
   "name": "python3"
  },
  "language_info": {
   "codemirror_mode": {
    "name": "ipython",
    "version": 3
   },
   "file_extension": ".py",
   "mimetype": "text/x-python",
   "name": "python",
   "nbconvert_exporter": "python",
   "pygments_lexer": "ipython3",
   "version": "3.10.7"
  }
 },
 "nbformat": 4,
 "nbformat_minor": 5
}
